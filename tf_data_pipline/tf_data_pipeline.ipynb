{
 "cells": [
  {
   "cell_type": "code",
   "execution_count": 20,
   "id": "711ce7ed-f47f-4c2d-95d2-e45e9114cc26",
   "metadata": {},
   "outputs": [],
   "source": [
    "import tensorflow as tf\n",
    "import os"
   ]
  },
  {
   "cell_type": "code",
   "execution_count": 21,
   "id": "09294558-1324-4d76-b7cb-e06dfebdc68c",
   "metadata": {},
   "outputs": [
    {
     "data": {
      "text/plain": [
       "<_TensorSliceDataset element_spec=TensorSpec(shape=(), dtype=tf.string, name=None)>"
      ]
     },
     "execution_count": 21,
     "metadata": {},
     "output_type": "execute_result"
    }
   ],
   "source": [
    "file_paths_ds  = tf.data.Dataset.list_files('review/*/*', shuffle=False)\n",
    "file_paths_ds "
   ]
  },
  {
   "cell_type": "code",
   "execution_count": 22,
   "id": "9cffc584-9f6a-4597-aeac-561cc0cc6a7b",
   "metadata": {},
   "outputs": [
    {
     "name": "stdout",
     "output_type": "stream",
     "text": [
      "b'review\\\\negative\\\\neg_1.txt'\n",
      "b'review\\\\negative\\\\neg_2.txt'\n",
      "b'review\\\\negative\\\\neg_3.txt'\n",
      "b'review\\\\positive\\\\pos_1.txt'\n",
      "b'review\\\\positive\\\\pos_2.txt'\n",
      "b'review\\\\positive\\\\pos_3.txt'\n"
     ]
    }
   ],
   "source": [
    "for file in file_paths_ds :\n",
    "    print(file.numpy())"
   ]
  },
  {
   "cell_type": "markdown",
   "id": "7b4b25f7-8e17-4f70-a19b-57fc4d515601",
   "metadata": {},
   "source": [
    "<h2>Extract review text from these files. Extract label from folder name\n"
   ]
  },
  {
   "cell_type": "code",
   "execution_count": 35,
   "id": "156a7669-4593-4635-9570-de97e88d3401",
   "metadata": {},
   "outputs": [],
   "source": [
    "def extract_review_and_label(file_paths_ds):\n",
    "    text = tf.io.read_file(file_paths_ds)\n",
    "    label = tf.strings.split(file_paths_ds, os.path.sep)[-2]\n",
    "    return text, label"
   ]
  },
  {
   "cell_type": "code",
   "execution_count": 36,
   "id": "4f3a4fa4-d152-4974-80e1-c458d8cd89d6",
   "metadata": {},
   "outputs": [
    {
     "name": "stdout",
     "output_type": "stream",
     "text": [
      "Review:  b\"Basically there's a family where a little boy (Jak\"\n",
      "Label:  b'negative'\n",
      "Review:  b'This show was an amazing, fresh & innovative idea '\n",
      "Label:  b'negative'\n",
      "Review:  b''\n",
      "Label:  b'negative'\n",
      "Review:  b'One of the other reviewers has mentioned that afte'\n",
      "Label:  b'positive'\n",
      "Review:  b'A wonderful little production. <br /><br />The fil'\n",
      "Label:  b'positive'\n",
      "Review:  b''\n",
      "Label:  b'positive'\n"
     ]
    }
   ],
   "source": [
    "review_ds1 = file_paths_ds .map(extract_review_and_label)\n",
    "for review , label in review_ds1:\n",
    "    print(\"Review: \", review.numpy()[:50])\n",
    "    print(\"Label: \", label.numpy())"
   ]
  },
  {
   "cell_type": "markdown",
   "id": "74060ebc-ecbf-45b2-a4c7-fa5bff9bed15",
   "metadata": {},
   "source": [
    "<h2>Filter blank reviews\n",
    "</h2>"
   ]
  },
  {
   "cell_type": "code",
   "execution_count": 37,
   "id": "a35d6ef0-3f6d-4bcc-ab84-344c65e4a28a",
   "metadata": {},
   "outputs": [
    {
     "name": "stdout",
     "output_type": "stream",
     "text": [
      "Review:  b\"Basically there's a family where a little boy (Jak\"\n",
      "Label:  b'negative'\n",
      "Review:  b'This show was an amazing, fresh & innovative idea '\n",
      "Label:  b'negative'\n",
      "Review:  b'One of the other reviewers has mentioned that afte'\n",
      "Label:  b'positive'\n",
      "Review:  b'A wonderful little production. <br /><br />The fil'\n",
      "Label:  b'positive'\n"
     ]
    }
   ],
   "source": [
    "review_ds2 = review_ds1.filter(lambda review, label: review!=\"\")\n",
    "for review, label in review_ds2:\n",
    "    print(\"Review: \", review.numpy()[:50])\n",
    "    print(\"Label: \", label.numpy())"
   ]
  },
  {
   "cell_type": "markdown",
   "id": "841c0598-f182-469b-8447-1fb708b87404",
   "metadata": {},
   "source": [
    "<h2>Perform map, filter and shuffle all in single line of code"
   ]
  },
  {
   "cell_type": "code",
   "execution_count": 39,
   "id": "279abf3f-0c07-42c3-8586-caedd06a0d0b",
   "metadata": {},
   "outputs": [
    {
     "name": "stdout",
     "output_type": "stream",
     "text": [
      "Review: b'This show was an amazing, fresh & innovative idea '\n",
      "Label: b'negative'\n",
      "Review: b\"Basically there's a family where a little boy (Jak\"\n",
      "Label: b'negative'\n",
      "Review: b'A wonderful little production. <br /><br />The fil'\n",
      "Label: b'positive'\n",
      "Review: b'One of the other reviewers has mentioned that afte'\n",
      "Label: b'positive'\n"
     ]
    }
   ],
   "source": [
    "final_ds = file_paths_ds.map(extract_review_and_label).filter(lambda review, label: review!=\"\").shuffle(3)\n",
    "for review, label in final_ds.as_numpy_iterator():\n",
    "    print(\"Review:\",review[:50])\n",
    "    print(\"Label:\",label)"
   ]
  },
  {
   "cell_type": "code",
   "execution_count": null,
   "id": "08631864-dcea-4a2e-aa5a-d7c90666d9ac",
   "metadata": {},
   "outputs": [],
   "source": []
  }
 ],
 "metadata": {
  "kernelspec": {
   "display_name": "Python 3 (ipykernel)",
   "language": "python",
   "name": "python3"
  },
  "language_info": {
   "codemirror_mode": {
    "name": "ipython",
    "version": 3
   },
   "file_extension": ".py",
   "mimetype": "text/x-python",
   "name": "python",
   "nbconvert_exporter": "python",
   "pygments_lexer": "ipython3",
   "version": "3.12.7"
  }
 },
 "nbformat": 4,
 "nbformat_minor": 5
}
